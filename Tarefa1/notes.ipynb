{
 "cells": [
  {
   "cell_type": "markdown",
   "metadata": {},
   "source": [
    "- Fazer melhor correlação entre os dados (violencia afetada pela população)\n",
    "- Tabela de correlação entre os dados com ferramentas do pandas\n",
    "- Explorar mais os valores\n",
    "- Usar biblioteca de exploração prévia de dados\n",
    "- Mudar as cores dos gráficos\n",
    "- Colocar marcos historicos para explicar alterações nos gráficos"
   ]
  },
  {
   "cell_type": "code",
   "execution_count": null,
   "metadata": {
    "vscode": {
     "languageId": "plaintext"
    }
   },
   "outputs": [],
   "source": []
  }
 ],
 "metadata": {
  "language_info": {
   "name": "python"
  }
 },
 "nbformat": 4,
 "nbformat_minor": 2
}
